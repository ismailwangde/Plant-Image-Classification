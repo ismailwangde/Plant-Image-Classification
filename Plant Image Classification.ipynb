{
 "cells": [
  {
   "cell_type": "code",
   "execution_count": 1,
   "id": "0c6f07f6",
   "metadata": {},
   "outputs": [
    {
     "name": "stderr",
     "output_type": "stream",
     "text": [
      "C:\\Users\\wangd\\anaconda3\\lib\\site-packages\\scipy\\__init__.py:146: UserWarning: A NumPy version >=1.16.5 and <1.23.0 is required for this version of SciPy (detected version 1.26.0\n",
      "  warnings.warn(f\"A NumPy version >={np_minversion} and <{np_maxversion}\"\n"
     ]
    }
   ],
   "source": [
    "import tensorflow as tf\n",
    "import os\n",
    "from tensorflow.keras.preprocessing.image import ImageDataGenerator"
   ]
  },
  {
   "cell_type": "code",
   "execution_count": 3,
   "id": "409f14f3",
   "metadata": {},
   "outputs": [
    {
     "name": "stdout",
     "output_type": "stream",
     "text": [
      "Found 47 images belonging to 2 classes.\n",
      "Epoch 1/10\n",
      "4/4 [==============================] - 5s 896ms/step - loss: 1.1869 - accuracy: 0.6596\n",
      "Epoch 2/10\n",
      "4/4 [==============================] - 4s 872ms/step - loss: 0.6677 - accuracy: 0.5745\n",
      "Epoch 3/10\n",
      "4/4 [==============================] - 4s 994ms/step - loss: 0.4780 - accuracy: 0.8723\n",
      "Epoch 4/10\n",
      "4/4 [==============================] - 4s 836ms/step - loss: 0.6703 - accuracy: 0.6383\n",
      "Epoch 5/10\n",
      "4/4 [==============================] - 4s 978ms/step - loss: 0.5606 - accuracy: 0.7447\n",
      "Epoch 6/10\n",
      "4/4 [==============================] - 4s 1s/step - loss: 0.3869 - accuracy: 0.8723\n",
      "Epoch 7/10\n",
      "4/4 [==============================] - 3s 871ms/step - loss: 0.3991 - accuracy: 0.8298\n",
      "Epoch 8/10\n",
      "4/4 [==============================] - 3s 592ms/step - loss: 0.3155 - accuracy: 0.9149\n",
      "Epoch 9/10\n",
      "4/4 [==============================] - 3s 939ms/step - loss: 0.1886 - accuracy: 0.9362\n",
      "Epoch 10/10\n",
      "4/4 [==============================] - 3s 933ms/step - loss: 0.2127 - accuracy: 0.9362\n"
     ]
    }
   ],
   "source": [
    "import tensorflow as tf\n",
    "from tensorflow.keras.preprocessing.image import ImageDataGenerator\n",
    "\n",
    "tehe_dir = \"C:/Users/wangd/Downloads/HEorUN/Healthytom/Healthytomte\"\n",
    "trhe_dir = \"C:/Users/wangd/Downloads/HEorUN/Healthytom/Healthytomtr\"\n",
    "teun_dir = \"C:/Users/wangd/Downloads/HEorUN/Healthytom/Unhealthytomte\"\n",
    "trun_dir = \"C:/Users/wangd/Downloads/HEorUN/Healthytom/Unhealthytomtr\"\n",
    "\n",
    "train_datagen = ImageDataGenerator(rescale=1/255)\n",
    "\n",
    "\n",
    "train_generator = train_datagen.flow_from_directory('C:/Users/wangd/Downloads/HEorUN',\n",
    "                        target_size=(150, 150), batch_size=12, class_mode='binary')\n",
    "\n",
    "\n",
    "model = tf.keras.models.Sequential([\n",
    "    tf.keras.layers.Conv2D(16, (3, 3), activation='relu', input_shape=(150, 150, 3)),\n",
    "    tf.keras.layers.MaxPooling2D(2, 2),\n",
    "    tf.keras.layers.Conv2D(32, (3, 3), activation='relu'),\n",
    "    tf.keras.layers.MaxPooling2D(2, 2),\n",
    "    tf.keras.layers.Conv2D(64, (3, 3), activation='relu'),\n",
    "    tf.keras.layers.MaxPooling2D(2, 2),\n",
    "    tf.keras.layers.Flatten(),\n",
    "    tf.keras.layers.Dense(512, activation='relu'),\n",
    "    tf.keras.layers.Dense(1, activation='sigmoid')\n",
    "])\n",
    "\n",
    "model.compile(loss='binary_crossentropy',\n",
    "              optimizer=tf.keras.optimizers.RMSprop(learning_rate=0.001),\n",
    "              metrics=['accuracy'])\n",
    "\n",
    "history = model.fit(\n",
    "      train_generator,  \n",
    "      epochs=10)\n"
   ]
  }
 ],
 "metadata": {
  "kernelspec": {
   "display_name": "Python 3 (ipykernel)",
   "language": "python",
   "name": "python3"
  },
  "language_info": {
   "codemirror_mode": {
    "name": "ipython",
    "version": 3
   },
   "file_extension": ".py",
   "mimetype": "text/x-python",
   "name": "python",
   "nbconvert_exporter": "python",
   "pygments_lexer": "ipython3",
   "version": "3.9.12"
  }
 },
 "nbformat": 4,
 "nbformat_minor": 5
}
